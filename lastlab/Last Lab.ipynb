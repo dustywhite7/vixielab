{
 "cells": [
  {
   "cell_type": "code",
   "execution_count": 1,
   "metadata": {
    "collapsed": true
   },
   "outputs": [],
   "source": [
    "import pandas as pd\n",
    "import numpy as np\n",
    "import sklearn as sk\n",
    "\n",
    "data = pd.read_csv('StudentLoanSimulatedData.csv')"
   ]
  },
  {
   "cell_type": "code",
   "execution_count": 87,
   "metadata": {
    "collapsed": false
   },
   "outputs": [],
   "source": [
    "from __future__ import division\n",
    "\n",
    "\n",
    "\n",
    "def histogramClass(data, maxgrid = 2):\n",
    "    if (str(type(data)) == \"<class 'pandas.core.frame.DataFrame'>\"):\n",
    "        nrow, ncol = np.shape(data)\n",
    "        \n",
    "        histogram = pd.DataFrame(np.zeros((nrow,ncol)))\n",
    "        classifier = pd.DataFrame()\n",
    "        bins = np.arange(0,1, 1/maxgrid)\n",
    "        \n",
    "        ##### Create grid lines\n",
    "        for i in range(ncol):\n",
    "            colmin = min(data.ix[:,i])\n",
    "            colmax = max(data.ix[:,i])\n",
    "            data.ix[:,i] = (data.ix[:,i]-colmin)/colmax\n",
    "            \n",
    "            if i>0:\n",
    "                histogram.ix[:,i] = np.digitize(data.ix[:,i],bins)\n",
    "            else:\n",
    "                histogram.ix[:,i] = data.ix[:,i]\n",
    "        \n",
    "        ##### Sort array by columns (from leftmost to right)\n",
    "\n",
    "        return histogram\n",
    "    else:\n",
    "        print \"Incorrect Data Type - Data should be in Pandas DataFrame.\""
   ]
  },
  {
   "cell_type": "code",
   "execution_count": 88,
   "metadata": {
    "collapsed": false
   },
   "outputs": [],
   "source": [
    "data2 = histogramClass(data)"
   ]
  },
  {
   "cell_type": "code",
   "execution_count": 89,
   "metadata": {
    "collapsed": false
   },
   "outputs": [
    {
     "data": {
      "text/plain": [
       "1  2  3  4  5  6  7  8  9  10  11  12  13  14  15\n",
       "1  1  1  1  1  1  1  1  1  1   1   1   2   2   1     1\n",
       "                                   2   1   1   2     1\n",
       "                                           2   2     2\n",
       "                                       2   2   1     1\n",
       "                               2   1   1   1   1     1\n",
       "                                       2   1   1     1\n",
       "                                               2     2\n",
       "                                           2   1     1\n",
       "                                               2     1\n",
       "                                   2   1   2   1     1\n",
       "                                       2   2   1     1\n",
       "                                               2     1\n",
       "                           2   1   1   2   2   1     1\n",
       "                                   2   1   1   2     1\n",
       "                                           2   1     2\n",
       "...\n",
       "1  2  2  2  2  2  2  1  1  2   2   1   1   2   2     2\n",
       "                                       2   1   2     1\n",
       "                                   2   1   2   2     1\n",
       "                        2  1   1   1   2   1   2     1\n",
       "                                   2   2   1   1     1\n",
       "                               2   1   1   2   2     1\n",
       "                                       2   1   2     1\n",
       "                                           2   1     1\n",
       "                                   2   1   2   2     1\n",
       "                                       2   2   2     1\n",
       "                           2   1   1   1   1   2     1\n",
       "                                       2   1   2     1\n",
       "                                           2   2     1\n",
       "                               2   2   1   2   1     1\n",
       "2  1  1  1  1  2  1  1  2  1   1   2   1   1   2     1\n",
       "Length: 1941, dtype: int64"
      ]
     },
     "execution_count": 89,
     "metadata": {},
     "output_type": "execute_result"
    }
   ],
   "source": [
    "data2.groupby(list(data2.columns)[1:]).size()"
   ]
  },
  {
   "cell_type": "code",
   "execution_count": 75,
   "metadata": {
    "collapsed": false
   },
   "outputs": [
    {
     "data": {
      "text/plain": [
       "['Loans',\n",
       " 'ParentsIncome',\n",
       " 'NumberOfSiblings',\n",
       " 'StudentIncome',\n",
       " 'WorkExperience',\n",
       " 'Education',\n",
       " 'MinimumWage',\n",
       " 'Grades',\n",
       " 'TuitionPaid',\n",
       " 'Years',\n",
       " 'College',\n",
       " 'OutOfState',\n",
       " 'PreferenceForNiceThings',\n",
       " 'NumberOfRoomies',\n",
       " 'State',\n",
       " 'Materials']"
      ]
     },
     "execution_count": 75,
     "metadata": {},
     "output_type": "execute_result"
    }
   ],
   "source": [
    "list(data.columns)"
   ]
  },
  {
   "cell_type": "code",
   "execution_count": null,
   "metadata": {
    "collapsed": true
   },
   "outputs": [],
   "source": []
  }
 ],
 "metadata": {
  "kernelspec": {
   "display_name": "Python 2",
   "language": "python",
   "name": "python2"
  },
  "language_info": {
   "codemirror_mode": {
    "name": "ipython",
    "version": 2
   },
   "file_extension": ".py",
   "mimetype": "text/x-python",
   "name": "python",
   "nbconvert_exporter": "python",
   "pygments_lexer": "ipython2",
   "version": "2.7.9"
  }
 },
 "nbformat": 4,
 "nbformat_minor": 0
}
