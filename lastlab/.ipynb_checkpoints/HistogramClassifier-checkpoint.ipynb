{
 "cells": [
  {
   "cell_type": "markdown",
   "metadata": {},
   "source": [
    "##### THE CODE TO GENERATE DATA AND TO RUN THE CLASSIFIER"
   ]
  },
  {
   "cell_type": "code",
   "execution_count": 112,
   "metadata": {
    "collapsed": false
   },
   "outputs": [],
   "source": [
    "from __future__ import division\n",
    "import pandas as pd\n",
    "import numpy as np\n",
    "import sklearn as sk\n",
    "\n",
    "data = pd.read_csv('StudentLoanSimulatedData.csv')\n",
    "\n",
    "# vars[0] is % of ParentsIncome dedicated to all of their children's educations\n",
    "# vars[1] is # of hours worked by student per year\n",
    "# vars[2] is education baseline (must be > 0)\n",
    "# vars[3] is impact of grades on scholarship\n",
    "# vars[4] is the negative impact of ParentsIncome on scholarship eligibility\n",
    "vars = np.array([.15, 2000, 1, .25, .1])\n",
    "N = 1000\n",
    "\n",
    "def studentLoanData(vars,N):\n",
    "\n",
    "    randMat = np.array(np.random.uniform(0,1,[N,20]))\n",
    "    ParentsIncome = randMat[:,0]*100000\n",
    "    NumberOfSiblings = np.floor(randMat[:,1]*10)\n",
    "    ParentsPortion = np.divide(ParentsIncome*vars[0],1+NumberOfSiblings)\n",
    "\n",
    "    WorkExperience = np.floor(randMat[:,2]*8)\n",
    "    Education = np.floor(randMat[:,3]*2)\n",
    "    Skills = np.floor(randMat[:,4]*4)\n",
    "    MinimumWage = np.floor(randMat[:,5]*20)\n",
    "    StudentIncome = vars[1]*MinimumWage+np.multiply(WorkExperience,Education+vars[2],Skills)\n",
    "\n",
    "    Years = np.floor(randMat[:,6]*8)\n",
    "    College = randMat[:,7]*10000\n",
    "    InState = np.floor(randMat[:,8]*2)\n",
    "    Tuition = np.multiply(Years,College,InState+1)\n",
    "\n",
    "    Grades =  np.floor(randMat[:,9]*40)/10\n",
    "    Scholarship = np.multiply(vars[3]*Grades,Tuition - vars[4]*ParentsIncome)\n",
    "    Scholarship = Scholarship.clip(0)\n",
    "\n",
    "    State = randMat[:,10]*15000\n",
    "    Roomies = np.floor(randMat[:,11]*10)\n",
    "    BlingFactor = np.floor(randMat[:,12]*9)\n",
    "    LivingExpenses = np.divide(np.multiply(State,1+BlingFactor),1+Roomies)\n",
    "\n",
    "    Materials = randMat[:,13]*5000\n",
    "\n",
    "    StudentLoanAmount = ParentsPortion + StudentIncome + Scholarship - Tuition - LivingExpenses - Materials\n",
    "    Loans = (StudentLoanAmount<0)\n",
    "    Loans = Loans.astype(int)\n",
    "\n",
    "    NumberOfSiblings\n",
    "    StudentIncome\n",
    "\n",
    "    data = pd.DataFrame.from_items([('Loans', Loans), ('ParentsIncome', ParentsIncome), \n",
    "                                    ('WorkExperience', WorkExperience), ('Education', Education), \n",
    "                                    ('MinimumWage', MinimumWage), ('Grades', Grades), \n",
    "                                    ('Tuition', Tuition), ('Years', Years), ('College', College), \n",
    "                                    ('InState', InState), ('BlingFactor', BlingFactor), \n",
    "                                    ('NumberOfSiblings', NumberOfSiblings), ('State', State), ('Materials', Materials)])\n",
    "\n",
    "    return data\n",
    "\n",
    "def histogramClass(data, testratio = .2, maxgrid = 2):\n",
    "    if (str(type(data)) == \"<class 'pandas.core.frame.DataFrame'>\"):\n",
    "        nrow= np.shape(data)[0]\n",
    "        ncol = np.shape(data)[1]\n",
    "        stop = int(np.ceil(nrow*(1-testratio)))\n",
    "        testrow = int(nrow - stop)\n",
    "        classifier = pd.DataFrame()\n",
    "        bins = np.arange(0,1, 1/maxgrid)\n",
    "\n",
    "        ##### Create grid lines\n",
    "        for i in range(ncol):\n",
    "            colmin = min(data.ix[:,i])\n",
    "            colmax = max(data.ix[:,i])\n",
    "            data.ix[:,i] = (data.ix[:,i]-colmin)/colmax\n",
    "\n",
    "            if i>0:\n",
    "                data.ix[:,i] = np.digitize(data.ix[:,i],bins)\n",
    "            else:\n",
    "                data.ix[:,i] = data.ix[:,i]\n",
    "\n",
    "        histogram = data.loc[range(stop)]\n",
    "        histogram2 = data.loc[range(stop+1, nrow)]\n",
    "        \n",
    "        \n",
    "        \n",
    "        ##### Store rows of histogram that predict \"output = 1\"\n",
    "        vector = histogram.groupby(list(histogram.columns)[1:]).mean() >= .5\n",
    "        a = vector.index.unique()\n",
    "        classifier = dict()\n",
    "        for i in a:\n",
    "            classifier[i] = vector.ix[i]['Loans']\n",
    "\n",
    "        count = 0\n",
    "        results = np.zeros((testrow,1))\n",
    "        \n",
    "        for i in range(stop+1,nrow):\n",
    "            if classifier.has_key(tuple(histogram2.loc[i][1:])):\n",
    "            #if tuple(histogram2.ix[i,1:]) in classifier.keys():\n",
    "                results[i-(stop+1)] = int(classifier[tuple(histogram2.loc[i][1:])])\n",
    "            else:\n",
    "                results[i-(stop+1)] = 0\n",
    "            if results[i-(stop+1)] == histogram2.loc[i][0]:\n",
    "                count = count + 1\n",
    "        \n",
    "        accuracy = (count/testrow)\n",
    "        return accuracy\n",
    "        \n",
    "    else:\n",
    "        print \"Incorrect Data Type - Data should be in Pandas DataFrame.\""
   ]
  },
  {
   "cell_type": "markdown",
   "metadata": {},
   "source": [
    "##### TRIAL WITH TWO BINS\n",
    "\n",
    "The classifiers converge to an accuracy that seems to be close to 80% as the number of observations goes to infinity."
   ]
  },
  {
   "cell_type": "code",
   "execution_count": 128,
   "metadata": {
    "collapsed": false
   },
   "outputs": [
    {
     "name": "stdout",
     "output_type": "stream",
     "text": [
      "0.5\n",
      "10        0.5       \n",
      "\n",
      "0.3\n",
      "100       0.3       \n",
      "\n",
      "0.53\n",
      "1000      0.53      \n",
      "\n",
      "0.688\n",
      "10000     0.688     \n",
      "\n",
      "0.78595\n",
      "100000    0.78595   \n",
      "\n",
      "0.7985\n",
      "1000000   0.7985    \n",
      "\n"
     ]
    }
   ],
   "source": [
    "for i in [10,100,1000,10000,100000,1000000]:\n",
    "    data = studentLoanData(vars,i)\n",
    "    acc = histogramClass(data)\n",
    "    print str(i).ljust(10) + str(acc).ljust(10) + '\\n'\n",
    "    "
   ]
  },
  {
   "cell_type": "markdown",
   "metadata": {},
   "source": [
    "##### TRIAL WITH THREE BINS\n",
    "\n",
    "The classifiers converge slowly at first, but then quickly increase in accuracy as the number of observations increases."
   ]
  },
  {
   "cell_type": "code",
   "execution_count": 127,
   "metadata": {
    "collapsed": false
   },
   "outputs": [
    {
     "name": "stdout",
     "output_type": "stream",
     "text": [
      "0.0\n",
      "10        0.0       \n",
      "\n",
      "0.45\n",
      "100       0.45      \n",
      "\n",
      "0.495\n",
      "1000      0.495     \n",
      "\n",
      "0.492\n",
      "10000     0.492     \n",
      "\n",
      "0.56455\n",
      "100000    0.56455   \n",
      "\n",
      "0.771705\n",
      "1000000   0.771705  \n",
      "\n"
     ]
    }
   ],
   "source": [
    "for i in [10,100,1000,10000,100000,1000000]:\n",
    "    data = studentLoanData(vars,i)\n",
    "    acc = histogramClass(data, maxgrid = 3)\n",
    "    print str(i).ljust(10) + str(acc).ljust(10) + '\\n'\n",
    "    "
   ]
  }
 ],
 "metadata": {
  "kernelspec": {
   "display_name": "Python 2",
   "language": "python",
   "name": "python2"
  },
  "language_info": {
   "codemirror_mode": {
    "name": "ipython",
    "version": 2
   },
   "file_extension": ".py",
   "mimetype": "text/x-python",
   "name": "python",
   "nbconvert_exporter": "python",
   "pygments_lexer": "ipython2",
   "version": "2.7.9"
  }
 },
 "nbformat": 4,
 "nbformat_minor": 0
}
